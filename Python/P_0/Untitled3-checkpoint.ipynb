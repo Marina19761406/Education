{
 "cells": [
  {
   "cell_type": "markdown",
   "metadata": {},
   "source": [
    "Задание 1"
   ]
  },
  {
   "cell_type": "code",
   "execution_count": 3,
   "metadata": {},
   "outputs": [
    {
     "name": "stdout",
     "output_type": "stream",
     "text": [
      "фраза 1 длинее фразы 2\n"
     ]
    }
   ],
   "source": [
    "lang_1=\"Насколько проще было бы писать программы, если бы не заказчики\"\n",
    "lang_2=\"640Кб должно хватить для любых задач. Билл Гейтс (по легенде)\"\n",
    "if len (lang_1)>len(lang_2):\n",
    "    print (\"фраза 1 длинее фразы 2\")\n",
    "else:\n",
    "    print(\"фраза 2 длинее фразы 1\")"
   ]
  },
  {
   "cell_type": "code",
   "execution_count": 4,
   "metadata": {},
   "outputs": [
    {
     "name": "stdout",
     "output_type": "stream",
     "text": [
      "фраза 2 длинее фразы 1\n"
     ]
    }
   ],
   "source": [
    "lang_1=\"640Кб должно хватить для любых задач. Билл Гейтс (по легенде)\"\n",
    "lang_2=\"Насколько проще было бы писать программы, если бы не заказчики\"\n",
    "if len (lang_1)>len(lang_2):\n",
    "    print (\"фраза 1 длинее фразы 2\")\n",
    "else:\n",
    "    print(\"фраза 2 длинее фразы 1\")"
   ]
  },
  {
   "cell_type": "code",
   "execution_count": 104,
   "metadata": {},
   "outputs": [
    {
     "name": "stdout",
     "output_type": "stream",
     "text": [
      "фразы одной длины\n"
     ]
    }
   ],
   "source": [
    "lang_1=\"Насколько проще было бы писать программы, если бы не заказчики\"\n",
    "lang_2=\"Насколько проще было бы писать программы, если бы не заказчики\"\n",
    "if len (lang_1)>len(lang_2):\n",
    "    print(\"фраза 1 длинее фразы 2\")\n",
    "elif len(lang_1)<len(lang_2):\n",
    "    print(\"фраза 2 длинее фразы 1\")\n",
    "else:\n",
    "    print(\"фразы одной длины\")"
   ]
  },
  {
   "cell_type": "markdown",
   "metadata": {},
   "source": [
    "Задание 2"
   ]
  },
  {
   "cell_type": "code",
   "execution_count": 27,
   "metadata": {},
   "outputs": [
    {
     "name": "stdout",
     "output_type": "stream",
     "text": [
      "высокосный год\n"
     ]
    }
   ],
   "source": [
    "year=2020\n",
    "if year%4==0 and year%100!=0:\n",
    "    print(\"высокосный год\")\n",
    "else:\n",
    "    print(\"невысокосный год\")"
   ]
  },
  {
   "cell_type": "markdown",
   "metadata": {},
   "source": [
    "Задание 3"
   ]
  },
  {
   "cell_type": "code",
   "execution_count": 34,
   "metadata": {},
   "outputs": [
    {
     "ename": "SyntaxError",
     "evalue": "invalid syntax (<ipython-input-34-8a4384bacc57>, line 4)",
     "output_type": "error",
     "traceback": [
      "\u001b[1;36m  File \u001b[1;32m\"<ipython-input-34-8a4384bacc57>\"\u001b[1;36m, line \u001b[1;32m4\u001b[0m\n\u001b[1;33m    if day >= 21\u001b[0m\n\u001b[1;37m                 ^\u001b[0m\n\u001b[1;31mSyntaxError\u001b[0m\u001b[1;31m:\u001b[0m invalid syntax\n"
     ]
    }
   ],
   "source": [
    "day=22\n",
    "month=март\n",
    "\n",
    "if day >= 21 \n",
    "and month=\"март\":\n",
    "    print(\"овен\")\n",
    "else print(\"телец\")\n"
   ]
  },
  {
   "cell_type": "markdown",
   "metadata": {},
   "source": [
    "Задание 4"
   ]
  },
  {
   "cell_type": "code",
   "execution_count": 36,
   "metadata": {},
   "outputs": [
    {
     "name": "stdout",
     "output_type": "stream",
     "text": [
      "Коробка №1\n"
     ]
    }
   ],
   "source": [
    "width=14\n",
    "length=14\n",
    "height=14\n",
    "\n",
    "if width<15 and length<15 and height<15:\n",
    "    print(\"Коробка №1\")\n"
   ]
  }
 ],
 "metadata": {
  "kernelspec": {
   "display_name": "Python 3",
   "language": "python",
   "name": "python3"
  },
  "language_info": {
   "codemirror_mode": {
    "name": "ipython",
    "version": 3
   },
   "file_extension": ".py",
   "mimetype": "text/x-python",
   "name": "python",
   "nbconvert_exporter": "python",
   "pygments_lexer": "ipython3",
   "version": "3.8.3"
  }
 },
 "nbformat": 4,
 "nbformat_minor": 4
}
